{
 "cells": [
  {
   "cell_type": "code",
   "execution_count": 1,
   "metadata": {},
   "outputs": [],
   "source": [
    "import os\n",
    "import time"
   ]
  },
  {
   "cell_type": "code",
   "execution_count": 2,
   "metadata": {},
   "outputs": [
    {
     "data": {
      "text/plain": [
       "'C:\\\\Users\\\\ramya\\\\Documents\\\\01 Courses\\\\01 MLDLM\\\\04 Projects\\\\Machine Learning\\\\wafer_circleci-main\\\\Training_Batch_Files'"
      ]
     },
     "execution_count": 2,
     "metadata": {},
     "output_type": "execute_result"
    }
   ],
   "source": [
    "pwd"
   ]
  },
  {
   "cell_type": "code",
   "execution_count": 3,
   "metadata": {},
   "outputs": [
    {
     "name": "stdout",
     "output_type": "stream",
     "text": [
      "Wall time: 0 ns\n"
     ]
    },
    {
     "data": {
      "text/plain": [
       "['.ipynb_checkpoints',\n",
       " 'Untitled1.ipynb',\n",
       " 'Wafer12_20012.csv',\n",
       " 'Waferdefault_15010_130532.csv',\n",
       " 'Wafer_07012020_000000.csv',\n",
       " 'wafer_07012020_041011.csv',\n",
       " 'Wafer_07012020_223345.csv',\n",
       " 'Wafer_08012020_120000.csv',\n",
       " 'Wafer_10012020_131534.csv',\n",
       " 'Wafer_11012020_151432.csv',\n",
       " 'Wafer_12012020_111.csv',\n",
       " 'Wafer_12012020_111213.csv',\n",
       " 'wafer_13012020_090817.csv',\n",
       " 'Wafer_13012020_141000.csv',\n",
       " 'Wafer_14012020_113045.csv',\n",
       " 'Wafer_15010_130532.csv',\n",
       " 'Wafer_15012020_130532.csv',\n",
       " 'wafer_16012020_051629.csv',\n",
       " 'wafer_16012020_134553.csv',\n",
       " 'wafer_17012020_125434.csv',\n",
       " 'Wafer_18012020_121532.csv',\n",
       " 'Wafer_19012020_141432.csv',\n",
       " 'wafer_20012020_090819.csv',\n",
       " 'Wafer_20012020_135132.csv',\n",
       " 'wafer_20022020_090716.csv',\n",
       " 'wafer_21012020_080913.csv',\n",
       " 'Wafer_21012020_143634.csv',\n",
       " 'Wafer_22012020_173245.csv',\n",
       " 'wafer_22022020_041119.csv',\n",
       " 'wafer_23012020_011008.csv',\n",
       " 'wafer_23012020_041211.csv',\n",
       " 'Wafer_23012020_163456.csv',\n",
       " 'Wafer_24012020_150121.csv',\n",
       " 'Wafer_25012020_142112.csv',\n",
       " 'wafer_27012020_080911.csv',\n",
       " 'wafer_28012020_051011.csv',\n",
       " 'wafer_28012020_090817.csv',\n",
       " 'wafer_28042020_031911.csv',\n",
       " 'wafer_29012020_050617.csv',\n",
       " 'wafer_29012020_060756.csv',\n",
       " 'wafer_31012020_090811.csv',\n",
       " 'Wafer_fault_detection.csv',\n",
       " 'Wafer_text_130532.csv']"
      ]
     },
     "execution_count": 3,
     "metadata": {},
     "output_type": "execute_result"
    }
   ],
   "source": [
    "%time\n",
    "os.listdir('C:\\\\Users\\\\ramya\\\\Documents\\\\01 Courses\\\\01 MLDLM\\\\04 Projects\\\\Machine Learning\\\\wafer_circleci-main\\\\Training_Batch_Files')"
   ]
  },
  {
   "cell_type": "code",
   "execution_count": 4,
   "metadata": {},
   "outputs": [
    {
     "name": "stdout",
     "output_type": "stream",
     "text": [
      "Wall time: 0 ns\n"
     ]
    },
    {
     "data": {
      "text/plain": [
       "['.ipynb_checkpoints',\n",
       " 'Untitled1.ipynb',\n",
       " 'Wafer12_20012.csv',\n",
       " 'Waferdefault_15010_130532.csv',\n",
       " 'Wafer_07012020_000000.csv',\n",
       " 'wafer_07012020_041011.csv',\n",
       " 'Wafer_07012020_223345.csv',\n",
       " 'Wafer_08012020_120000.csv',\n",
       " 'Wafer_10012020_131534.csv',\n",
       " 'Wafer_11012020_151432.csv',\n",
       " 'Wafer_12012020_111.csv',\n",
       " 'Wafer_12012020_111213.csv',\n",
       " 'wafer_13012020_090817.csv',\n",
       " 'Wafer_13012020_141000.csv',\n",
       " 'Wafer_14012020_113045.csv',\n",
       " 'Wafer_15010_130532.csv',\n",
       " 'Wafer_15012020_130532.csv',\n",
       " 'wafer_16012020_051629.csv',\n",
       " 'wafer_16012020_134553.csv',\n",
       " 'wafer_17012020_125434.csv',\n",
       " 'Wafer_18012020_121532.csv',\n",
       " 'Wafer_19012020_141432.csv',\n",
       " 'wafer_20012020_090819.csv',\n",
       " 'Wafer_20012020_135132.csv',\n",
       " 'wafer_20022020_090716.csv',\n",
       " 'wafer_21012020_080913.csv',\n",
       " 'Wafer_21012020_143634.csv',\n",
       " 'Wafer_22012020_173245.csv',\n",
       " 'wafer_22022020_041119.csv',\n",
       " 'wafer_23012020_011008.csv',\n",
       " 'wafer_23012020_041211.csv',\n",
       " 'Wafer_23012020_163456.csv',\n",
       " 'Wafer_24012020_150121.csv',\n",
       " 'Wafer_25012020_142112.csv',\n",
       " 'wafer_27012020_080911.csv',\n",
       " 'wafer_28012020_051011.csv',\n",
       " 'wafer_28012020_090817.csv',\n",
       " 'wafer_28042020_031911.csv',\n",
       " 'wafer_29012020_050617.csv',\n",
       " 'wafer_29012020_060756.csv',\n",
       " 'wafer_31012020_090811.csv',\n",
       " 'Wafer_fault_detection.csv',\n",
       " 'Wafer_text_130532.csv']"
      ]
     },
     "execution_count": 4,
     "metadata": {},
     "output_type": "execute_result"
    }
   ],
   "source": [
    "%time\n",
    "[a for a in  os.listdir('C:\\\\Users\\\\ramya\\\\Documents\\\\01 Courses\\\\01 MLDLM\\\\04 Projects\\\\Machine Learning\\\\wafer_circleci-main\\\\Training_Batch_Files')]"
   ]
  },
  {
   "cell_type": "code",
   "execution_count": 5,
   "metadata": {},
   "outputs": [
    {
     "data": {
      "text/plain": [
       "[[1, 2, 3, 4, 5, 6, 7, 8, 9],\n",
       " [10, 11, 12, 13, 14, 15, 16, 17, 18, 19],\n",
       " [20, 21, 22, 23, 24, 25, 26, 27, 28, 29],\n",
       " [30, 31, 32, 33, 34, 35, 36, 37, 38, 39],\n",
       " [40, 41, 42, 43, 44, 45, 46, 47, 48, 49]]"
      ]
     },
     "execution_count": 5,
     "metadata": {},
     "output_type": "execute_result"
    }
   ],
   "source": [
    "abc = [list(range(1,10)), list(range(10,20)), list(range(20,30)), list(range(30,40)), list(range(40,50))]\n",
    "abc"
   ]
  },
  {
   "cell_type": "code",
   "execution_count": 8,
   "metadata": {},
   "outputs": [
    {
     "data": {
      "text/plain": [
       "[1,\n",
       " 2,\n",
       " 3,\n",
       " 4,\n",
       " 5,\n",
       " 6,\n",
       " 7,\n",
       " 8,\n",
       " 9,\n",
       " 10,\n",
       " 11,\n",
       " 12,\n",
       " 13,\n",
       " 14,\n",
       " 15,\n",
       " 16,\n",
       " 17,\n",
       " 18,\n",
       " 19,\n",
       " 20,\n",
       " 21,\n",
       " 22,\n",
       " 23,\n",
       " 24,\n",
       " 25,\n",
       " 26,\n",
       " 27,\n",
       " 28,\n",
       " 29,\n",
       " 30,\n",
       " 31,\n",
       " 32,\n",
       " 33,\n",
       " 34,\n",
       " 35,\n",
       " 36,\n",
       " 37,\n",
       " 38,\n",
       " 39,\n",
       " 40,\n",
       " 41,\n",
       " 42,\n",
       " 43,\n",
       " 44,\n",
       " 45,\n",
       " 46,\n",
       " 47,\n",
       " 48,\n",
       " 49]"
      ]
     },
     "execution_count": 8,
     "metadata": {},
     "output_type": "execute_result"
    }
   ],
   "source": [
    "[j for i in abc for j in i]"
   ]
  },
  {
   "cell_type": "code",
   "execution_count": null,
   "metadata": {},
   "outputs": [],
   "source": []
  }
 ],
 "metadata": {
  "kernelspec": {
   "display_name": "Python 3",
   "language": "python",
   "name": "python3"
  },
  "language_info": {
   "codemirror_mode": {
    "name": "ipython",
    "version": 3
   },
   "file_extension": ".py",
   "mimetype": "text/x-python",
   "name": "python",
   "nbconvert_exporter": "python",
   "pygments_lexer": "ipython3",
   "version": "3.8.5"
  }
 },
 "nbformat": 4,
 "nbformat_minor": 4
}
